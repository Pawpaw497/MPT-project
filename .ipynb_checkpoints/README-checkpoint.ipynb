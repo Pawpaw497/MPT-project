{
 "cells": [
  {
   "cell_type": "markdown",
   "id": "5dffe4c7",
   "metadata": {},
   "source": [
    "# The radiation model for the human mobility in Singapore"
   ]
  },
  {
   "cell_type": "markdown",
   "id": "addc5a7f",
   "metadata": {},
   "source": [
    "Basic radiation model: \n",
    "$$<T_{ij}>=T_i\\frac{m_in_j}{(m_i+s_{ij})(m_i+n_j+s_{ij})}$$\n",
    "in which\n",
    "$$T_i=\\sum_{i\\neq j}T_{ij}$$\n",
    "and $s_{ij}$ is the population within the circle cetered at $i$ with a radius of $r_{ij}$, excluding the population of $i$ and $j$.\n",
    "  \n",
    "The radiation model is based on the population data $(m, n, s)$ and population flow data $T_i$"
   ]
  },
  {
   "cell_type": "markdown",
   "id": "729462e7",
   "metadata": {},
   "source": [
    "## 1 Population Data"
   ]
  },
  {
   "cell_type": "markdown",
   "id": "c62ec9e4-4a5a-4bf2-b28a-66b6bb749f65",
   "metadata": {},
   "source": [
    "##### 1.1 The Resident dataset  *The code is named as **residents_by_sz&pa.ipynb**.*  "
   ]
  },
  {
   "cell_type": "markdown",
   "id": "90619bb1",
   "metadata": {},
   "source": [
    "Here I use the smallest administrative unit in Singapore, subzones, as the research object. The population data used here is the goverment released resident number on 2019. By simply sorting the data by planning areas and subzones, I get the population data needed int he model."
   ]
  },
  {
   "cell_type": "markdown",
   "id": "b7fe5fc2-ef7b-4989-b5fc-d09f4af11e22",
   "metadata": {
    "tags": []
   },
   "source": [
    "##### 1.2 GPR *The code is named as **SG_GPR.ipynb**.*"
   ]
  },
  {
   "cell_type": "markdown",
   "id": "6f31d5fa-eb15-47e1-92cd-b39d18b41c31",
   "metadata": {},
   "source": [
    "Also, using the GPR data, the population ratio can be calculated in a different way. In the equation, the population is squared both above and below the fractional line. So it is feasible to subsititute the population of subzones and planning areas with the grided GPR data. "
   ]
  },
  {
   "cell_type": "markdown",
   "id": "f68fa158-e55e-4d07-966f-4f63b34b565a",
   "metadata": {},
   "source": [
    "The word GPR is short for Gross Plot Ratio. The Gross Plot Ratio (GPR) for a specific development site is defined as the ratio of the GFA of a building to its site or plot area. It uses a much smaller unit of analysis, so $s_{ij}$ can be computed in a more accurated way. "
   ]
  },
  {
   "cell_type": "markdown",
   "id": "1d532d39",
   "metadata": {
    "tags": []
   },
   "source": [
    "## 2 $s_{ij}$"
   ]
  },
  {
   "cell_type": "markdown",
   "id": "c9b00d29-6efd-4f0e-8df5-3cffeb80e846",
   "metadata": {},
   "source": [
    "*The code is named as **pa&sz_centroids.ipynb**.*"
   ]
  },
  {
   "cell_type": "markdown",
   "id": "e1754ff0",
   "metadata": {},
   "source": [
    "Although $r_{ij}$ is not directly appeared in the original function of radiation model, it is needed in calculating the quantity $s_{ij}$. Here I used the geographic weighted centroids to represent the planning areas and subzones, and then use the distance of each centroid pairs to represent the distance of the two places. "
   ]
  },
  {
   "cell_type": "markdown",
   "id": "41f9d57d-877a-4346-b24d-afd70470d713",
   "metadata": {},
   "source": [
    "Also, as when calculating the $s_{ij}$, we need to creat a circle and determine the population with in the circle, in my code, a subzone is considered to be within the circle when its centoid is within the circle, and its population is counted in. Conversely, a subzone whose centroid is not in the circle, its population will not be counted in. "
   ]
  },
  {
   "cell_type": "markdown",
   "id": "10c3eef5-cc4d-46a4-9fa4-b0e18f235e8f",
   "metadata": {},
   "source": [
    "While with the GPR data, the calculation of $s_{ij}$ is based on the same process. *The code is included in **SG_GPR.ipynb**.*"
   ]
  },
  {
   "cell_type": "markdown",
   "id": "4c78b53c-93d2-445a-999e-1992bc278c25",
   "metadata": {},
   "source": [
    "## 3 population flux"
   ]
  },
  {
   "cell_type": "markdown",
   "id": "6d37fb6b-5ba1-4991-b861-3fae7fb114f6",
   "metadata": {},
   "source": [
    "*The code is named as **population_flux.ipynb**.*"
   ]
  },
  {
   "cell_type": "markdown",
   "id": "7dfcb966-6332-4a3f-a4ce-00e32f07f6e8",
   "metadata": {},
   "source": [
    "The original dataset contains the locations of bus stops and MRT stations and number of trips of each stop-stop or station-station pair. Regarding the governmental policy, the public transportation system is the main travel mode in Singapore. According to the locations of these spots, it is possible to calculate the transportation flux between planning areas. "
   ]
  },
  {
   "cell_type": "markdown",
   "id": "40cbb623-1806-49a5-bf7f-f8fbab1135d7",
   "metadata": {},
   "source": [
    "From the result, I can see that there are some planning areas having no flux in or out. It is because the usage of each planning area may differ. Take the Central Water Catchment as an example, it is basically a large pound, and has no residents. Thus, there is no public transportation flux for this area. "
   ]
  },
  {
   "cell_type": "markdown",
   "id": "94374716-2e5c-40cc-8404-9cfc5d9219ff",
   "metadata": {},
   "source": [
    "There are much work to do to make the data usable. As the urban transportation system is constantly upgrading, it adds difficulty to the arranging process. In the dataset, some planning areas are missing, the main reason is the situation mentioned above. These data are replenished by directly written to be 0. Also, some station cannot be found in the location file. That is because the same one station may have different name in different MRT lines, and only one name is recorded in the location file. I fixed it by **renaming those stations**, and reconsidering the their commuters in and out as destination and origin. "
   ]
  },
  {
   "cell_type": "markdown",
   "id": "3444955d-d454-44c0-89ea-8bd4007029ff",
   "metadata": {},
   "source": [
    "## 4 A raw model fit in "
   ]
  },
  {
   "cell_type": "markdown",
   "id": "a6d92982-306e-481f-8828-3bf639a66275",
   "metadata": {},
   "source": [
    "*The code is named as **model_cal_byResidents.ipynb**.*"
   ]
  },
  {
   "cell_type": "markdown",
   "id": "715df51e-008f-48f2-b7d8-1dd2ecae1716",
   "metadata": {},
   "source": [
    "There are 55 planning areas in total in Singapore. So I creat a $55\\times55$ matrix to represent the PA(planning area)-PA pairs. Each cell $P_{ij}$ is linked $T_i$, $m_i$, $n_j$, and $s_{ij}$. And the prediction of $T_{ij}$ is resulted from the original function with these quantities, and showed as the height in the plot(Plot.ipynb). "
   ]
  },
  {
   "cell_type": "markdown",
   "id": "89a786a5-83d8-457f-896e-3e214d8012f2",
   "metadata": {},
   "source": [
    "## Sum"
   ]
  },
  {
   "cell_type": "markdown",
   "id": "864e7f2f-26b0-4085-8baf-57996717c175",
   "metadata": {},
   "source": [
    "1. In the whole code set, I use **the names of the Planning Areas** as the trace, I'm not sure whether it is the reason why my code is excuted very slowly. "
   ]
  },
  {
   "cell_type": "markdown",
   "id": "0524a87f-5c8b-45ad-8a42-3c121ed1c53e",
   "metadata": {},
   "source": [
    "    After searching online, it turns out that there no difference between using string type or int as the key."
   ]
  },
  {
   "cell_type": "code",
   "execution_count": null,
   "id": "0441c236-a453-491a-9062-5afb0f7aa8a0",
   "metadata": {},
   "outputs": [],
   "source": []
  }
 ],
 "metadata": {
  "kernelspec": {
   "display_name": "geo_env",
   "language": "python",
   "name": "geo_env"
  },
  "language_info": {
   "codemirror_mode": {
    "name": "ipython",
    "version": 3
   },
   "file_extension": ".py",
   "mimetype": "text/x-python",
   "name": "python",
   "nbconvert_exporter": "python",
   "pygments_lexer": "ipython3",
   "version": "3.9.13"
  },
  "toc-autonumbering": false,
  "toc-showmarkdowntxt": false,
  "toc-showtags": false
 },
 "nbformat": 4,
 "nbformat_minor": 5
}
