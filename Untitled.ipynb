{
 "cells": [
  {
   "cell_type": "code",
   "execution_count": 10,
   "id": "54cdbd6b-4b9c-4725-a84c-0d6509878fc4",
   "metadata": {},
   "outputs": [],
   "source": [
    "import random\n",
    "import numpy as np\n",
    "# constants\n",
    "num_elements = 20\n",
    "num_samples = 1000\n",
    "sample_size = 5\n",
    "elements = np.arange(num_elements)\n",
    "# probabilities should sum to 1\n",
    "probabilities = np.random.random(num_elements)\n",
    "probabilities /= np.sum(probabilities)"
   ]
  },
  {
   "cell_type": "code",
   "execution_count": 4,
   "id": "c2b9f58b-426f-4c69-b083-020273efbf3d",
   "metadata": {},
   "outputs": [],
   "source": [
    "def numpy_choice(num_samples, sample_size, elements, probabilities):\n",
    "    return np.asarray([\n",
    "        np.random.choice(\n",
    "            elements, sample_size, p=probabilities, replace=False\n",
    "        ) for _ in range(num_samples)\n",
    "    ])"
   ]
  },
  {
   "cell_type": "code",
   "execution_count": 11,
   "id": "b058d7a7-3d60-4dac-a674-56260b858cbf",
   "metadata": {},
   "outputs": [
    {
     "name": "stdout",
     "output_type": "stream",
     "text": [
      "CPU times: user 33.9 ms, sys: 1.34 ms, total: 35.2 ms\n",
      "Wall time: 34.3 ms\n"
     ]
    },
    {
     "data": {
      "text/plain": [
       "array([[ 6,  8,  0, 15,  5],\n",
       "       [10, 12,  2,  0,  6],\n",
       "       [ 0, 16,  7, 17, 19],\n",
       "       ...,\n",
       "       [16,  0, 19,  5,  4],\n",
       "       [17,  5,  2,  1,  9],\n",
       "       [ 9,  0,  6, 19,  2]])"
      ]
     },
     "execution_count": 11,
     "metadata": {},
     "output_type": "execute_result"
    }
   ],
   "source": [
    "%%time\n",
    "numpy_choice(num_samples, sample_size, elements, probabilities)"
   ]
  },
  {
   "cell_type": "code",
   "execution_count": 23,
   "id": "aa3f2c56-5fab-4f8a-8df5-f59c4c7b7651",
   "metadata": {},
   "outputs": [],
   "source": [
    "def multidimensional_shifting(num_samples, sample_size, elements, probabilities):\n",
    "    # replicate probabilities as many times as `num_samples`\n",
    "    replicated_probabilities = np.tile(probabilities, (num_samples, 1))\n",
    "    # get random shifting numbers & scale them correctly\n",
    "    random_shifts = np.random.random(replicated_probabilities.shape)\n",
    "    random_shifts /= random_shifts.sum(axis=1)[:, np.newaxis]\n",
    "    # shift by numbers & find largest (by finding the smallest of the negative)\n",
    "    shifted_probabilities = random_shifts - replicated_probabilities\n",
    "    return np.argpartition(shifted_probabilities, sample_size, axis=1)[:, :sample_size]"
   ]
  },
  {
   "cell_type": "code",
   "execution_count": 24,
   "id": "64831917-5d9a-49b0-9b9f-0463ba29fadd",
   "metadata": {},
   "outputs": [
    {
     "name": "stdout",
     "output_type": "stream",
     "text": [
      "CPU times: user 1.04 ms, sys: 762 µs, total: 1.8 ms\n",
      "Wall time: 900 µs\n"
     ]
    },
    {
     "data": {
      "text/plain": [
       "array([[ 8,  2,  6,  3,  7],\n",
       "       [17, 12, 15,  3, 18],\n",
       "       [ 6,  8, 15,  1, 16],\n",
       "       ...,\n",
       "       [ 0,  6, 15,  8, 17],\n",
       "       [17,  2,  6, 16,  7],\n",
       "       [ 8,  0, 16, 15, 19]])"
      ]
     },
     "execution_count": 24,
     "metadata": {},
     "output_type": "execute_result"
    }
   ],
   "source": [
    "%%time \n",
    "multidimensional_shifting(num_samples, sample_size, elements, probabilities)"
   ]
  },
  {
   "cell_type": "code",
   "execution_count": null,
   "id": "9e772524-07e3-43e1-8983-6ca3fbb35022",
   "metadata": {},
   "outputs": [],
   "source": []
  }
 ],
 "metadata": {
  "kernelspec": {
   "display_name": "Python [conda env:num_env]",
   "language": "python",
   "name": "conda-env-num_env-py"
  },
  "language_info": {
   "codemirror_mode": {
    "name": "ipython",
    "version": 3
   },
   "file_extension": ".py",
   "mimetype": "text/x-python",
   "name": "python",
   "nbconvert_exporter": "python",
   "pygments_lexer": "ipython3",
   "version": "3.8.13"
  }
 },
 "nbformat": 4,
 "nbformat_minor": 5
}
